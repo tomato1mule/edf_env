{
 "cells": [
  {
   "cell_type": "code",
   "execution_count": 1,
   "metadata": {},
   "outputs": [],
   "source": [
    "#%load_ext nb_mypy"
   ]
  },
  {
   "cell_type": "code",
   "execution_count": 2,
   "metadata": {},
   "outputs": [
    {
     "name": "stderr",
     "output_type": "stream",
     "text": [
      "pybullet build time: Jan 28 2022 20:17:22\n"
     ]
    },
    {
     "name": "stdout",
     "output_type": "stream",
     "text": [
      "Jupyter environment detected. Enabling Open3D WebVisualizer.\n",
      "[Open3D INFO] WebRTC GUI backend enabled.\n",
      "[Open3D INFO] WebRTCWindowSystem: HTTP handshake server disabled.\n"
     ]
    }
   ],
   "source": [
    "import sys, os\n",
    "\n",
    "import pybullet as p\n",
    "import edf_env\n",
    "from edf_env.env import UR5Env\n",
    "from edf_env.pybullet_pc_utils import pb_cams_to_pc\n",
    "from edf_env.pc_utils import pcd_from_numpy, draw_geometry\n",
    "from edf_env.utils import pb_draw_axis\n",
    "\n",
    "import numpy as np\n",
    "import yaml\n",
    "import plotly as pl\n",
    "import plotly.express as ple\n",
    "import open3d as o3d"
   ]
  },
  {
   "cell_type": "code",
   "execution_count": 3,
   "metadata": {},
   "outputs": [],
   "source": [
    "env = UR5Env(use_gui=True)"
   ]
  },
  {
   "cell_type": "code",
   "execution_count": 4,
   "metadata": {},
   "outputs": [],
   "source": [
    "# env.disable_gripper_self_collision()"
   ]
  },
  {
   "cell_type": "code",
   "execution_count": 5,
   "metadata": {},
   "outputs": [
    {
     "name": "stdout",
     "output_type": "stream",
     "text": [
      "27 EE_joint JOINT_FIXED\n",
      "28 finger_joint JOINT_REVOLUTE\n",
      "29 left_outer_finger_joint JOINT_FIXED\n",
      "30 left_inner_knuckle_joint JOINT_REVOLUTE\n",
      "31 left_inner_finger_joint JOINT_REVOLUTE\n",
      "32 right_inner_knuckle_joint JOINT_REVOLUTE\n",
      "33 right_inner_finger_joint JOINT_REVOLUTE\n",
      "34 right_outer_knuckle_joint JOINT_REVOLUTE\n",
      "35 right_outer_finger_joint JOINT_FIXED\n",
      "36 ur_arm_base_link-base_fixed_joint JOINT_FIXED\n"
     ]
    }
   ],
   "source": [
    "for k,v in env.robot_joint_dict.items():\n",
    "    if type(k) is int:\n",
    "        if k > 26:\n",
    "            print(k, v, env.robot_joint_type_dict[k])"
   ]
  },
  {
   "cell_type": "code",
   "execution_count": 6,
   "metadata": {},
   "outputs": [],
   "source": [
    "# c = p.createConstraint(env.robot_id,\n",
    "#                        env.robot_joint_dict['left_outer_finger_joint'],\n",
    "#                        env.robot_id,\n",
    "#                        env.robot_joint_dict['left_inner_finger_joint'],\n",
    "#                        jointType=p.JOINT_POINT2POINT,\n",
    "#                        jointAxis=[0, 0, 0],\n",
    "#                        parentFramePosition=[0.001, 0, 0.0265],\n",
    "#                        childFramePosition=[0.012, 0.0, -0.013])\n",
    "# p.changeConstraint(c, erp=0.1, maxForce=1000)\n",
    "\n",
    "c = p.createConstraint(parentBodyUniqueId = env.robot_id,\n",
    "                       parentLinkIndex = env.robot_joint_dict['left_inner_knuckle_joint'],\n",
    "                       childBodyUniqueId = env.robot_id,\n",
    "                       childLinkIndex = env.robot_joint_dict['finger_joint'],\n",
    "                       jointType=p.JOINT_GEAR,\n",
    "                       jointAxis=[0, 1, 0],\n",
    "                       parentFramePosition=[0, 0, 0],\n",
    "                       childFramePosition=[0, 0, 0])\n",
    "p.changeConstraint(c, gearRatio=-1, maxForce=100,erp=2)\n",
    "\n",
    "c = p.createConstraint(parentBodyUniqueId = env.robot_id,\n",
    "                       parentLinkIndex = env.robot_joint_dict['left_inner_knuckle_joint'],\n",
    "                       childBodyUniqueId = env.robot_id,\n",
    "                       childLinkIndex = env.robot_joint_dict['left_inner_finger_joint'],\n",
    "                       jointType=p.JOINT_GEAR,\n",
    "                       jointAxis=[0, 1, 0],\n",
    "                       parentFramePosition=[0, 0, 0],\n",
    "                       childFramePosition=[0, 0, 0])\n",
    "p.changeConstraint(c, gearRatio=1, maxForce=100,erp=2)\n",
    "\n",
    "# c = p.createConstraint(parentBodyUniqueId = env.robot_id,\n",
    "#                        parentLinkIndex = env.robot_joint_dict['finger_joint'],\n",
    "#                        childBodyUniqueId = env.robot_id,\n",
    "#                        childLinkIndex = env.robot_joint_dict['left_inner_knuckle_joint'],\n",
    "#                        jointType=p.JOINT_GEAR,\n",
    "#                        jointAxis=[0, 1, 0],\n",
    "#                        parentFramePosition=[0, 0, 0],\n",
    "#                        childFramePosition=[0, 0, 0])\n",
    "# p.changeConstraint(c, gearRatio=-1, maxForce=100,erp=2)\n",
    "\n",
    "\n",
    "# c = p.createConstraint(env.robot_id,\n",
    "#                        env.robot_joint_dict['right_outer_finger_joint'],\n",
    "#                        env.robot_id,\n",
    "#                        env.robot_joint_dict['right_inner_finger_joint'],\n",
    "#                        jointType=p.JOINT_POINT2POINT,\n",
    "#                        jointAxis=[0, 0, 0],\n",
    "#                        parentFramePosition=[-0.001, 0, 0.0265],\n",
    "#                        childFramePosition=[-0.012, 0.0, -0.013])\n",
    "# p.changeConstraint(c, erp=0.1, maxForce=1000)\n",
    "\n",
    "c = p.createConstraint(parentBodyUniqueId = env.robot_id,\n",
    "                       parentLinkIndex = env.robot_joint_dict['right_inner_knuckle_joint'],\n",
    "                       childBodyUniqueId = env.robot_id,\n",
    "                       childLinkIndex = env.robot_joint_dict['right_outer_knuckle_joint'],\n",
    "                       jointType=p.JOINT_GEAR,\n",
    "                       jointAxis=[0, -1, 0],\n",
    "                       parentFramePosition=[0, 0, 0],\n",
    "                       childFramePosition=[0, 0, 0])\n",
    "p.changeConstraint(c, gearRatio=-1, maxForce=100,erp=2)\n",
    "\n",
    "c = p.createConstraint(parentBodyUniqueId = env.robot_id,\n",
    "                       parentLinkIndex = env.robot_joint_dict['right_outer_knuckle_joint'],\n",
    "                       childBodyUniqueId = env.robot_id,\n",
    "                       childLinkIndex = env.robot_joint_dict['right_inner_knuckle_joint'],\n",
    "                       jointType=p.JOINT_GEAR,\n",
    "                       jointAxis=[0, -1, 0],\n",
    "                       parentFramePosition=[0, 0, 0],\n",
    "                       childFramePosition=[0, 0, 0])\n",
    "p.changeConstraint(c, gearRatio=-1, maxForce=100,erp=2)\n",
    "\n"
   ]
  },
  {
   "cell_type": "code",
   "execution_count": 7,
   "metadata": {},
   "outputs": [],
   "source": [
    "# pb_draw_axis(np.array([0.001, 0, 0.0265]), bodyId=env.robot_id, linkId=env.robot_joint_dict['left_outer_finger_joint'])\n",
    "# pb_draw_axis(np.array([0.012, 0.0, -0.013]), bodyId=env.robot_id, linkId=env.robot_joint_dict['left_inner_finger_joint'])\n",
    "# p.removeAllUserDebugItems()"
   ]
  },
  {
   "cell_type": "code",
   "execution_count": 8,
   "metadata": {},
   "outputs": [],
   "source": [
    "# # gripper constraints\n",
    "# c = p.createConstraint(env.robot_id, env.robot_joint_dict['left_outer_finger_joint'], env.robot_id, env.robot_joint_dict['left_inner_finger_joint'], p.JOINT_POINT2POINT, [0, 0, 0], [0, -0.014, 0.043], [0, -0.034, 0.021])\n",
    "# p.changeConstraint(c, erp=0.1, maxForce=1000)"
   ]
  },
  {
   "cell_type": "code",
   "execution_count": 9,
   "metadata": {},
   "outputs": [],
   "source": [
    "import time"
   ]
  },
  {
   "cell_type": "code",
   "execution_count": 13,
   "metadata": {},
   "outputs": [],
   "source": [
    "p.setJointMotorControlArray(bodyUniqueId = env.robot_id,\n",
    "                                            jointIndices = [env.robot_joint_dict['left_inner_knuckle_joint'], env.robot_joint_dict['right_inner_knuckle_joint']],\n",
    "                                            controlMode = p.POSITION_CONTROL,\n",
    "                                            targetPositions = [0.0, 0.0])\n",
    "\n",
    "for _ in range(300):\n",
    "    #env.gripper_mimic_constraint()\n",
    "    p.stepSimulation()\n",
    "    time.sleep(0.003)"
   ]
  },
  {
   "cell_type": "code",
   "execution_count": 14,
   "metadata": {},
   "outputs": [],
   "source": [
    "p.setJointMotorControlArray(bodyUniqueId = env.robot_id,\n",
    "                                            jointIndices = [env.robot_joint_dict['left_inner_knuckle_joint'], env.robot_joint_dict['right_inner_knuckle_joint']],\n",
    "                                            controlMode = p.POSITION_CONTROL,\n",
    "                                            targetPositions = [0.6, 0])\n",
    "for _ in range(300):\n",
    "    #env.gripper_mimic_constraint()\n",
    "    p.stepSimulation()\n",
    "    time.sleep(0.003)"
   ]
  },
  {
   "cell_type": "code",
   "execution_count": null,
   "metadata": {},
   "outputs": [],
   "source": []
  },
  {
   "cell_type": "code",
   "execution_count": null,
   "metadata": {},
   "outputs": [],
   "source": []
  },
  {
   "cell_type": "code",
   "execution_count": 12,
   "metadata": {},
   "outputs": [
    {
     "ename": "NameError",
     "evalue": "name 'fsda' is not defined",
     "output_type": "error",
     "traceback": [
      "\u001b[0;31m---------------------------------------------------------------------------\u001b[0m",
      "\u001b[0;31mNameError\u001b[0m                                 Traceback (most recent call last)",
      "Cell \u001b[0;32mIn[12], line 1\u001b[0m\n\u001b[0;32m----> 1\u001b[0m fsda\n",
      "\u001b[0;31mNameError\u001b[0m: name 'fsda' is not defined"
     ]
    }
   ],
   "source": [
    "fsda"
   ]
  },
  {
   "cell_type": "code",
   "execution_count": null,
   "metadata": {},
   "outputs": [],
   "source": [
    "pc_coord, pc_color, pc_seg, cam_data_list = env.observe_scene()"
   ]
  },
  {
   "cell_type": "code",
   "execution_count": null,
   "metadata": {},
   "outputs": [],
   "source": [
    "pcd = pcd_from_numpy(coord=pc_coord, color=pc_color, voxel_filter_size = 0.003)"
   ]
  },
  {
   "cell_type": "code",
   "execution_count": null,
   "metadata": {},
   "outputs": [],
   "source": [
    "draw_geometry(pcd)"
   ]
  },
  {
   "cell_type": "code",
   "execution_count": null,
   "metadata": {},
   "outputs": [],
   "source": []
  }
 ],
 "metadata": {
  "kernelspec": {
   "display_name": "Python 3.9.15 ('edf_env')",
   "language": "python",
   "name": "python3"
  },
  "language_info": {
   "codemirror_mode": {
    "name": "ipython",
    "version": 3
   },
   "file_extension": ".py",
   "mimetype": "text/x-python",
   "name": "python",
   "nbconvert_exporter": "python",
   "pygments_lexer": "ipython3",
   "version": "3.8.16"
  },
  "orig_nbformat": 4,
  "vscode": {
   "interpreter": {
    "hash": "af6666271aa88010cf2cfaabf400b3e4725e891d1262c16234a99fd43f726498"
   }
  }
 },
 "nbformat": 4,
 "nbformat_minor": 2
}
