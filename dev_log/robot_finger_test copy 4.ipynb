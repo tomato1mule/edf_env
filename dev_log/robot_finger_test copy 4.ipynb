{
 "cells": [
  {
   "cell_type": "code",
   "execution_count": null,
   "metadata": {},
   "outputs": [],
   "source": [
    "#%load_ext nb_mypy"
   ]
  },
  {
   "cell_type": "code",
   "execution_count": null,
   "metadata": {},
   "outputs": [],
   "source": [
    "import sys, os\n",
    "\n",
    "import pybullet as p\n",
    "import edf_env\n",
    "from edf_env.env import UR5Env\n",
    "from edf_env.pybullet_pc_utils import pb_cams_to_pc\n",
    "from edf_env.pc_utils import pcd_from_numpy, draw_geometry\n",
    "from edf_env.utils import pb_draw_axis\n",
    "\n",
    "import numpy as np\n",
    "import yaml\n",
    "import plotly as pl\n",
    "import plotly.express as ple\n",
    "import open3d as o3d"
   ]
  },
  {
   "cell_type": "code",
   "execution_count": null,
   "metadata": {},
   "outputs": [],
   "source": [
    "env = UR5Env(use_gui=True)"
   ]
  },
  {
   "cell_type": "code",
   "execution_count": null,
   "metadata": {},
   "outputs": [],
   "source": [
    "for _ in range(300):\n",
    "    #env.gripper_mimic_constraint()\n",
    "    p.stepSimulation()"
   ]
  },
  {
   "cell_type": "code",
   "execution_count": null,
   "metadata": {},
   "outputs": [],
   "source": [
    "p.getNumConstraints()"
   ]
  },
  {
   "cell_type": "code",
   "execution_count": null,
   "metadata": {},
   "outputs": [],
   "source": []
  },
  {
   "cell_type": "code",
   "execution_count": null,
   "metadata": {},
   "outputs": [],
   "source": [
    "# env.disable_gripper_self_collision()"
   ]
  },
  {
   "cell_type": "code",
   "execution_count": null,
   "metadata": {},
   "outputs": [],
   "source": [
    "for k,v in env.robot_joint_dict.items():\n",
    "    if type(k) is int:\n",
    "        if k > 26:\n",
    "            print(k, v, env.robot_joint_type_dict[k])"
   ]
  },
  {
   "cell_type": "code",
   "execution_count": null,
   "metadata": {},
   "outputs": [],
   "source": [
    "for _ in range(3):\n",
    "    c = p.createConstraint(env.robot_id,\n",
    "                        env.robot_joint_dict['left_outer_finger_joint'],\n",
    "                        env.robot_id,\n",
    "                        env.robot_joint_dict['left_inner_finger_joint'],\n",
    "                        jointType=p.JOINT_POINT2POINT,\n",
    "                        jointAxis=[0, 0, 0],\n",
    "                        parentFramePosition=[0.001, 0, 0.0265],\n",
    "                        childFramePosition=[0.012, 0.0, -0.013])\n",
    "    p.changeConstraint(c, erp=0.1, maxForce=1000)\n",
    "\n",
    "\n",
    "    # c = p.createConstraint(parentBodyUniqueId = env.robot_id,\n",
    "    #                        parentLinkIndex = env.robot_joint_dict['left_inner_knuckle_joint'],\n",
    "    #                        childBodyUniqueId = env.robot_id,\n",
    "    #                        childLinkIndex = env.robot_joint_dict['finger_joint'],\n",
    "    #                        jointType=p.JOINT_GEAR,\n",
    "    #                        jointAxis=[0, 1, 0],\n",
    "    #                        parentFramePosition=[0, 0, 0],\n",
    "    #                        childFramePosition=[0, 0, 0])\n",
    "    # p.changeConstraint(c, gearRatio=-1, maxForce=100,erp=2)\n",
    "\n",
    "    c = p.createConstraint(parentBodyUniqueId = env.robot_id,\n",
    "                           parentLinkIndex = env.robot_joint_dict['left_inner_knuckle_joint'],\n",
    "                           childBodyUniqueId = env.robot_id,\n",
    "                           childLinkIndex = env.robot_joint_dict['left_inner_finger_joint'],\n",
    "                           jointType=p.JOINT_GEAR,\n",
    "                           jointAxis=[0, 1, 0],\n",
    "                           parentFramePosition=[0, 0, 0],\n",
    "                           childFramePosition=[0, 0, 0])\n",
    "    p.changeConstraint(c, gearRatio=1, maxForce=100,erp=2)\n",
    "\n",
    "\n",
    "    c = p.createConstraint(env.robot_id,\n",
    "                        env.robot_joint_dict['right_outer_finger_joint'],\n",
    "                        env.robot_id,\n",
    "                        env.robot_joint_dict['right_inner_finger_joint'],\n",
    "                        jointType=p.JOINT_POINT2POINT,\n",
    "                        jointAxis=[0, 0, 0],\n",
    "                        parentFramePosition=[0.001, 0, 0.0265],\n",
    "                        childFramePosition=[0.012, 0.0, -0.013])\n",
    "    p.changeConstraint(c, erp=0.1, maxForce=1000)\n",
    "\n",
    "    # c = p.createConstraint(parentBodyUniqueId = env.robot_id,\n",
    "    #                        parentLinkIndex = env.robot_joint_dict['right_inner_knuckle_joint'],\n",
    "    #                        childBodyUniqueId = env.robot_id,\n",
    "    #                        childLinkIndex = env.robot_joint_dict['right_outer_knuckle_joint'],\n",
    "    #                        jointType=p.JOINT_GEAR,\n",
    "    #                        jointAxis=[0, 1, 0],\n",
    "    #                        parentFramePosition=[0, 0, 0],\n",
    "    #                        childFramePosition=[0, 0, 0])\n",
    "    # p.changeConstraint(c, gearRatio=-1, maxForce=100,erp=2)\n",
    "\n",
    "    c = p.createConstraint(parentBodyUniqueId = env.robot_id,\n",
    "                           parentLinkIndex = env.robot_joint_dict['right_inner_knuckle_joint'],\n",
    "                           childBodyUniqueId = env.robot_id,\n",
    "                           childLinkIndex = env.robot_joint_dict['right_inner_finger_joint'],\n",
    "                           jointType=p.JOINT_GEAR,\n",
    "                           jointAxis=[0, 1, 0],\n",
    "                           parentFramePosition=[0, 0, 0],\n",
    "                           childFramePosition=[0, 0, 0])\n",
    "    p.changeConstraint(c, gearRatio=1, maxForce=100,erp=2)\n",
    "\n",
    "\n"
   ]
  },
  {
   "cell_type": "code",
   "execution_count": null,
   "metadata": {},
   "outputs": [],
   "source": [
    "import time"
   ]
  },
  {
   "cell_type": "code",
   "execution_count": null,
   "metadata": {},
   "outputs": [],
   "source": [
    "p.setJointMotorControlArray(bodyUniqueId = env.robot_id,\n",
    "                                            jointIndices = [env.robot_joint_dict['left_inner_knuckle_joint'], env.robot_joint_dict['right_inner_knuckle_joint']],\n",
    "                                            controlMode = p.POSITION_CONTROL,\n",
    "                                            targetPositions = [0.0, 0.0])\n",
    "\n",
    "for _ in range(300):\n",
    "    #env.gripper_mimic_constraint()\n",
    "    p.stepSimulation()\n",
    "    time.sleep(0.003)"
   ]
  },
  {
   "cell_type": "code",
   "execution_count": null,
   "metadata": {},
   "outputs": [],
   "source": [
    "p.setJointMotorControlArray(bodyUniqueId = env.robot_id,\n",
    "                                            jointIndices = [env.robot_joint_dict['left_inner_knuckle_joint'], env.robot_joint_dict['right_inner_knuckle_joint']],\n",
    "                                            controlMode = p.POSITION_CONTROL,\n",
    "                                            targetPositions = [0.6, -0.6])\n",
    "for _ in range(300):\n",
    "    #env.gripper_mimic_constraint()\n",
    "    p.stepSimulation()\n",
    "    time.sleep(0.003)"
   ]
  },
  {
   "cell_type": "code",
   "execution_count": null,
   "metadata": {},
   "outputs": [],
   "source": [
    "p.getJointInfo(1, env.robot_joint_dict['right_outer_finger_joint'])"
   ]
  },
  {
   "cell_type": "code",
   "execution_count": null,
   "metadata": {},
   "outputs": [],
   "source": []
  },
  {
   "cell_type": "code",
   "execution_count": null,
   "metadata": {},
   "outputs": [],
   "source": [
    "fsda"
   ]
  },
  {
   "cell_type": "code",
   "execution_count": null,
   "metadata": {},
   "outputs": [],
   "source": [
    "pc_coord, pc_color, pc_seg, cam_data_list = env.observe_scene()"
   ]
  },
  {
   "cell_type": "code",
   "execution_count": null,
   "metadata": {},
   "outputs": [],
   "source": [
    "pcd = pcd_from_numpy(coord=pc_coord, color=pc_color, voxel_filter_size = 0.003)"
   ]
  },
  {
   "cell_type": "code",
   "execution_count": null,
   "metadata": {},
   "outputs": [],
   "source": [
    "draw_geometry(pcd)"
   ]
  },
  {
   "cell_type": "code",
   "execution_count": null,
   "metadata": {},
   "outputs": [],
   "source": []
  }
 ],
 "metadata": {
  "kernelspec": {
   "display_name": "Python 3.9.15 ('edf_env')",
   "language": "python",
   "name": "python3"
  },
  "language_info": {
   "codemirror_mode": {
    "name": "ipython",
    "version": 3
   },
   "file_extension": ".py",
   "mimetype": "text/x-python",
   "name": "python",
   "nbconvert_exporter": "python",
   "pygments_lexer": "ipython3",
   "version": "3.8.16 (default, Jan 17 2023, 23:13:24) \n[GCC 11.2.0]"
  },
  "orig_nbformat": 4,
  "vscode": {
   "interpreter": {
    "hash": "af6666271aa88010cf2cfaabf400b3e4725e891d1262c16234a99fd43f726498"
   }
  }
 },
 "nbformat": 4,
 "nbformat_minor": 2
}
