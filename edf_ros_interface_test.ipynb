{
 "cells": [
  {
   "cell_type": "code",
   "execution_count": null,
   "metadata": {},
   "outputs": [],
   "source": [
    "import edf_env\n",
    "from edf_env.env import UR5Env\n",
    "from edf_env.ros_interface import EdfEnvRosInterface\n",
    "from edf_env.pybullet_pc_utils import pb_cams_to_pc\n",
    "from edf_env.pc_utils import pcd_from_numpy, draw_geometry\n",
    "\n",
    "import numpy as np\n",
    "import yaml\n",
    "import plotly as pl\n",
    "import plotly.express as ple\n",
    "import open3d as o3d\n",
    "\n",
    "import pybullet as p"
   ]
  },
  {
   "cell_type": "code",
   "execution_count": null,
   "metadata": {},
   "outputs": [],
   "source": [
    "env_interface = EdfEnvRosInterface()"
   ]
  },
  {
   "cell_type": "code",
   "execution_count": null,
   "metadata": {},
   "outputs": [],
   "source": [
    "target_poses = np.array([[0.0, 0.0, 1.0, 0.0, -0.25, 0.0, 0.62]])"
   ]
  },
  {
   "cell_type": "code",
   "execution_count": null,
   "metadata": {},
   "outputs": [],
   "source": [
    "env_interface.pick(target_poses=target_poses)"
   ]
  },
  {
   "cell_type": "code",
   "execution_count": null,
   "metadata": {},
   "outputs": [],
   "source": [
    "env_interface.observe_scene()"
   ]
  },
  {
   "cell_type": "code",
   "execution_count": null,
   "metadata": {},
   "outputs": [],
   "source": []
  },
  {
   "cell_type": "code",
   "execution_count": null,
   "metadata": {},
   "outputs": [],
   "source": []
  },
  {
   "cell_type": "code",
   "execution_count": null,
   "metadata": {},
   "outputs": [],
   "source": []
  },
  {
   "cell_type": "code",
   "execution_count": null,
   "metadata": {},
   "outputs": [],
   "source": []
  }
 ],
 "metadata": {
  "kernelspec": {
   "display_name": "Python 3 (ipykernel)",
   "language": "python",
   "name": "python3"
  },
  "language_info": {
   "codemirror_mode": {
    "name": "ipython",
    "version": 3
   },
   "file_extension": ".py",
   "mimetype": "text/x-python",
   "name": "python",
   "nbconvert_exporter": "python",
   "pygments_lexer": "ipython3",
   "version": "3.8.16"
  },
  "vscode": {
   "interpreter": {
    "hash": "af6666271aa88010cf2cfaabf400b3e4725e891d1262c16234a99fd43f726498"
   }
  }
 },
 "nbformat": 4,
 "nbformat_minor": 2
}
