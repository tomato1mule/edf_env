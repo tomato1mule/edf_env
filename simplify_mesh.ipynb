{
 "cells": [
  {
   "cell_type": "code",
   "execution_count": null,
   "metadata": {},
   "outputs": [],
   "source": [
    "import os\n",
    "from contextlib import suppress\n",
    "\n",
    "import open3d as o3d\n",
    "import numpy as np\n",
    "from scipy.spatial.transform import Rotation"
   ]
  },
  {
   "cell_type": "code",
   "execution_count": null,
   "metadata": {},
   "outputs": [],
   "source": [
    "path = 'edf_env/edf_env/assets/mug_task/mugs/test/mug2'\n",
    "in_path = os.path.join(path, 'mug.ply')\n",
    "out_path = os.path.join(path, 'mug_simplified.stl')\n",
    "\n",
    "detail = 32\n",
    "reorient = reorient = Rotation.from_euler('XYZ', [0, 0, np.pi]) * Rotation.from_euler('XYZ', [np.pi/2, 0, 0])\n",
    "reorient = reorient.as_matrix() # handle to y-axis, and z-axis is upward.\n",
    "rescale = 0.08\n",
    "recenter = True\n",
    "\n",
    "print(reorient)"
   ]
  },
  {
   "cell_type": "code",
   "execution_count": null,
   "metadata": {},
   "outputs": [],
   "source": [
    "# if in_path.split('.')[-1] == 'dae':\n",
    "#     import aspose.threed as a3d\n",
    "\n",
    "#     with suppress(RuntimeError):\n",
    "#     scene = a3d.Scene.from_file(in_path)\n",
    "\n",
    "#     path_str = ''\n",
    "#     for _str in in_path.split('.')[:-1] + ['.ply']:\n",
    "#         path_str += _str\n",
    "    \n",
    "#     scene.save(path_str)"
   ]
  },
  {
   "cell_type": "code",
   "execution_count": null,
   "metadata": {},
   "outputs": [],
   "source": [
    "mesh_in = o3d.io.read_triangle_mesh(in_path)\n",
    "mesh_in.compute_vertex_normals()\n",
    "print(\n",
    "    f'Input mesh has {len(mesh_in.vertices)} vertices and {len(mesh_in.triangles)} triangles'\n",
    ")"
   ]
  },
  {
   "cell_type": "code",
   "execution_count": null,
   "metadata": {},
   "outputs": [],
   "source": [
    "#o3d.visualization.draw_geometries([mesh_in])"
   ]
  },
  {
   "cell_type": "code",
   "execution_count": null,
   "metadata": {},
   "outputs": [],
   "source": [
    "assert detail >= 1.\n",
    "voxel_size = max(mesh_in.get_max_bound() - mesh_in.get_min_bound()) / detail\n",
    "\n",
    "mesh_smp = mesh_in.simplify_vertex_clustering(\n",
    "    voxel_size=voxel_size,\n",
    "    contraction=o3d.geometry.SimplificationContraction.Average)\n",
    "print(\n",
    "    f'Simplified mesh has {len(mesh_smp.vertices)} vertices and {len(mesh_smp.triangles)} triangles'\n",
    ")"
   ]
  },
  {
   "cell_type": "code",
   "execution_count": null,
   "metadata": {},
   "outputs": [],
   "source": [
    "if reorient is not False:\n",
    "    mesh_smp = mesh_smp.rotate(reorient, center=(0, 0, 0))\n",
    "\n",
    "if rescale is not False:\n",
    "    vertices = np.asarray(mesh_smp.vertices)\n",
    "    z_scale = vertices[:,-1].max() - vertices[:,-1].min()\n",
    "    vertices = vertices / z_scale * rescale\n",
    "    mesh_smp.vertices = o3d.utility.Vector3dVector(vertices)\n",
    "\n",
    "if recenter is not False:\n",
    "    # ##### Vertex Centroid #####\n",
    "    # # equivalent to mesh_smp.get_center()\n",
    "    # vertices = np.asarray(mesh_smp.vertices)\n",
    "    # centroid = vertices.mean(axis=-2)\n",
    "    # vertices = vertices - centroid\n",
    "    # mesh_smp.vertices = o3d.utility.Vector3dVector(vertices)\n",
    "\n",
    "    ##### Mesh Center of Mass #####\n",
    "    vertices = mesh_smp.sample_points_uniformly(number_of_points=5000)\n",
    "    centroid = np.asarray(vertices.points).mean(axis=-2)\n",
    "    vertices = np.asarray(mesh_smp.vertices) - centroid\n",
    "    mesh_smp.vertices = o3d.utility.Vector3dVector(vertices)"
   ]
  },
  {
   "cell_type": "code",
   "execution_count": null,
   "metadata": {},
   "outputs": [],
   "source": [
    "scale = rescale if rescale else z_scale\n",
    "coord_axis = o3d.geometry.TriangleMesh.create_coordinate_frame()\n",
    "coord_axis = coord_axis.scale(scale=scale, center=[0, 0, 0])\n",
    "\n",
    "\n",
    "mesh_smp.compute_vertex_normals()\n",
    "o3d.visualization.draw_geometries([mesh_smp, coord_axis])"
   ]
  },
  {
   "cell_type": "code",
   "execution_count": null,
   "metadata": {},
   "outputs": [],
   "source": [
    "print(f\"z-axis rescaled from {z_scale} to {scale}\")\n",
    "print(f\"Centroid: {np.asarray(mesh_smp.vertices).mean(axis=-2)}\")"
   ]
  },
  {
   "cell_type": "code",
   "execution_count": null,
   "metadata": {},
   "outputs": [],
   "source": [
    "o3d.io.write_triangle_mesh(out_path, mesh_smp)"
   ]
  }
 ],
 "metadata": {
  "kernelspec": {
   "display_name": "edf_env",
   "language": "python",
   "name": "python3"
  },
  "language_info": {
   "codemirror_mode": {
    "name": "ipython",
    "version": 3
   },
   "file_extension": ".py",
   "mimetype": "text/x-python",
   "name": "python",
   "nbconvert_exporter": "python",
   "pygments_lexer": "ipython3",
   "version": "3.8.16"
  },
  "orig_nbformat": 4,
  "vscode": {
   "interpreter": {
    "hash": "af6666271aa88010cf2cfaabf400b3e4725e891d1262c16234a99fd43f726498"
   }
  }
 },
 "nbformat": 4,
 "nbformat_minor": 2
}
